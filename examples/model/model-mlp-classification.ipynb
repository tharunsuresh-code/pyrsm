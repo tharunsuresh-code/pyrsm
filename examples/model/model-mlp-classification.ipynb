{
  "cells": [
    {
      "cell_type": "raw",
      "id": "4cf8718a",
      "metadata": {},
      "source": [
        "---\n",
        "title: MLP for Binary Classification\n",
        "---"
      ]
    },
    {
      "cell_type": "markdown",
      "id": "7454cd6b",
      "metadata": {},
      "source": [
        "Estimate a Multi-layer Perceptron (NN) model for binary classification\n",
        "\n",
        "YAML header for use with Quarto"
      ]
    },
    {
      "cell_type": "raw",
      "id": "e4020932",
      "metadata": {},
      "source": [
        "---\n",
        "author: Vincent Nijs\n",
        "format:\n",
        "    html:\n",
        "        code-tools: true\n",
        "        code-fold: true\n",
        "        toc: true\n",
        "        embed-resources: true\n",
        "        highlight: \"zenburn\"\n",
        "        theme: \"cosmo\"\n",
        "        includes:\n",
        "            in_header: ../figures/icon-header.html\n",
        "---"
      ]
    },
    {
      "cell_type": "code",
      "execution_count": 1,
      "id": "d27e8450",
      "metadata": {},
      "outputs": [],
      "source": [
        "import pyrsm as rsm\n",
        "import matplotlib as mpl\n",
        "\n",
        "# increase plot resolution\n",
        "mpl.rcParams[\"figure.dpi\"] = 100"
      ]
    },
    {
      "cell_type": "code",
      "execution_count": 2,
      "id": "56cdd4f7",
      "metadata": {},
      "outputs": [],
      "source": [
        "## setup pyrsm for autoreload\n",
        "%reload_ext autoreload\n",
        "%autoreload 2\n",
        "%aimport pyrsm"
      ]
    },
    {
      "cell_type": "markdown",
      "id": "4a77f689",
      "metadata": {},
      "source": [
        "### Example\n",
        "\n",
        "As an example we will use a dataset that describes the survival status of individual passengers on the Titanic. The principal source for data about Titanic passengers is the Encyclopedia Titanic. One of the original sources is Eaton & Haas (1994) Titanic: Triumph and Tragedy, Patrick Stephens Ltd, which includes a passenger list created by many researchers and edited by Michael A. Findlay. Suppose we want to investigate which factors are most strongly associated with the chance of surviving the sinking of the Titanic. Lets focus on four variables in the database:\n",
        "\n",
        "- survived = a factor with levels `Yes` and `No`\n",
        "- pclass = Passenger Class (1st, 2nd, 3rd). This is a proxy for socio-economic status (SES) 1st ~ Upper; 2nd ~ Middle; 3rd ~ Lower\n",
        "- sex = Sex (female, male)\n",
        "- age = Age in years\n",
        "\n",
        "Select `survived` as the response variable and `Yes` in **Choose level**. Select `pclass`, `sex` and `age` as the explanatory variables. In contrast to Logistic Regression, a Machine Learning model like a Random Forest does not provide coefficients or odds-ratios that we can interpret. Instead, the model provides predictions that we need to evaluate for accuracy. We will also use different plots to better understand what the Random Forest model is telling us about the connection between the explanatory variables (i.e., features) and the response variable (i.e., target).\n"
      ]
    },
    {
      "cell_type": "code",
      "execution_count": 3,
      "id": "b37028c7",
      "metadata": {},
      "outputs": [
        {
          "data": {
            "text/html": [
              "<div>\n",
              "<style scoped>\n",
              "    .dataframe tbody tr th:only-of-type {\n",
              "        vertical-align: middle;\n",
              "    }\n",
              "\n",
              "    .dataframe tbody tr th {\n",
              "        vertical-align: top;\n",
              "    }\n",
              "\n",
              "    .dataframe thead th {\n",
              "        text-align: right;\n",
              "    }\n",
              "</style>\n",
              "<table border=\"1\" class=\"dataframe\">\n",
              "  <thead>\n",
              "    <tr style=\"text-align: right;\">\n",
              "      <th></th>\n",
              "      <th>pclass</th>\n",
              "      <th>survived</th>\n",
              "      <th>sex</th>\n",
              "      <th>age</th>\n",
              "      <th>sibsp</th>\n",
              "      <th>parch</th>\n",
              "      <th>fare</th>\n",
              "      <th>name</th>\n",
              "      <th>cabin</th>\n",
              "      <th>embarked</th>\n",
              "    </tr>\n",
              "  </thead>\n",
              "  <tbody>\n",
              "    <tr>\n",
              "      <th>0</th>\n",
              "      <td>1st</td>\n",
              "      <td>Yes</td>\n",
              "      <td>female</td>\n",
              "      <td>29.0000</td>\n",
              "      <td>0</td>\n",
              "      <td>0</td>\n",
              "      <td>211.337494</td>\n",
              "      <td>Allen, Miss. Elisabeth Walton</td>\n",
              "      <td>B5</td>\n",
              "      <td>Southampton</td>\n",
              "    </tr>\n",
              "    <tr>\n",
              "      <th>1</th>\n",
              "      <td>1st</td>\n",
              "      <td>Yes</td>\n",
              "      <td>male</td>\n",
              "      <td>0.9167</td>\n",
              "      <td>1</td>\n",
              "      <td>2</td>\n",
              "      <td>151.550003</td>\n",
              "      <td>Allison, Master. Hudson Trevor</td>\n",
              "      <td>C22 C26</td>\n",
              "      <td>Southampton</td>\n",
              "    </tr>\n",
              "    <tr>\n",
              "      <th>2</th>\n",
              "      <td>1st</td>\n",
              "      <td>No</td>\n",
              "      <td>female</td>\n",
              "      <td>2.0000</td>\n",
              "      <td>1</td>\n",
              "      <td>2</td>\n",
              "      <td>151.550003</td>\n",
              "      <td>Allison, Miss. Helen Loraine</td>\n",
              "      <td>C22 C26</td>\n",
              "      <td>Southampton</td>\n",
              "    </tr>\n",
              "    <tr>\n",
              "      <th>3</th>\n",
              "      <td>1st</td>\n",
              "      <td>No</td>\n",
              "      <td>male</td>\n",
              "      <td>30.0000</td>\n",
              "      <td>1</td>\n",
              "      <td>2</td>\n",
              "      <td>151.550003</td>\n",
              "      <td>Allison, Mr. Hudson Joshua Crei</td>\n",
              "      <td>C22 C26</td>\n",
              "      <td>Southampton</td>\n",
              "    </tr>\n",
              "    <tr>\n",
              "      <th>4</th>\n",
              "      <td>1st</td>\n",
              "      <td>No</td>\n",
              "      <td>female</td>\n",
              "      <td>25.0000</td>\n",
              "      <td>1</td>\n",
              "      <td>2</td>\n",
              "      <td>151.550003</td>\n",
              "      <td>Allison, Mrs. Hudson J C (Bessi</td>\n",
              "      <td>C22 C26</td>\n",
              "      <td>Southampton</td>\n",
              "    </tr>\n",
              "    <tr>\n",
              "      <th>...</th>\n",
              "      <td>...</td>\n",
              "      <td>...</td>\n",
              "      <td>...</td>\n",
              "      <td>...</td>\n",
              "      <td>...</td>\n",
              "      <td>...</td>\n",
              "      <td>...</td>\n",
              "      <td>...</td>\n",
              "      <td>...</td>\n",
              "      <td>...</td>\n",
              "    </tr>\n",
              "    <tr>\n",
              "      <th>1038</th>\n",
              "      <td>3rd</td>\n",
              "      <td>No</td>\n",
              "      <td>male</td>\n",
              "      <td>45.5000</td>\n",
              "      <td>0</td>\n",
              "      <td>0</td>\n",
              "      <td>7.225000</td>\n",
              "      <td>Youseff, Mr. Gerious</td>\n",
              "      <td></td>\n",
              "      <td>Cherbourg</td>\n",
              "    </tr>\n",
              "    <tr>\n",
              "      <th>1039</th>\n",
              "      <td>3rd</td>\n",
              "      <td>No</td>\n",
              "      <td>female</td>\n",
              "      <td>14.5000</td>\n",
              "      <td>1</td>\n",
              "      <td>0</td>\n",
              "      <td>14.454200</td>\n",
              "      <td>Zabour, Miss. Hileni</td>\n",
              "      <td></td>\n",
              "      <td>Cherbourg</td>\n",
              "    </tr>\n",
              "    <tr>\n",
              "      <th>1040</th>\n",
              "      <td>3rd</td>\n",
              "      <td>No</td>\n",
              "      <td>male</td>\n",
              "      <td>26.5000</td>\n",
              "      <td>0</td>\n",
              "      <td>0</td>\n",
              "      <td>7.225000</td>\n",
              "      <td>Zakarian, Mr. Mapriededer</td>\n",
              "      <td></td>\n",
              "      <td>Cherbourg</td>\n",
              "    </tr>\n",
              "    <tr>\n",
              "      <th>1041</th>\n",
              "      <td>3rd</td>\n",
              "      <td>No</td>\n",
              "      <td>male</td>\n",
              "      <td>27.0000</td>\n",
              "      <td>0</td>\n",
              "      <td>0</td>\n",
              "      <td>7.225000</td>\n",
              "      <td>Zakarian, Mr. Ortin</td>\n",
              "      <td></td>\n",
              "      <td>Cherbourg</td>\n",
              "    </tr>\n",
              "    <tr>\n",
              "      <th>1042</th>\n",
              "      <td>3rd</td>\n",
              "      <td>No</td>\n",
              "      <td>male</td>\n",
              "      <td>29.0000</td>\n",
              "      <td>0</td>\n",
              "      <td>0</td>\n",
              "      <td>7.875000</td>\n",
              "      <td>Zimmerman, Mr. Leo</td>\n",
              "      <td></td>\n",
              "      <td>Southampton</td>\n",
              "    </tr>\n",
              "  </tbody>\n",
              "</table>\n",
              "<p>1043 rows × 10 columns</p>\n",
              "</div>"
            ],
            "text/plain": [
              "     pclass survived     sex      age  sibsp  parch        fare  \\\n",
              "0       1st      Yes  female  29.0000      0      0  211.337494   \n",
              "1       1st      Yes    male   0.9167      1      2  151.550003   \n",
              "2       1st       No  female   2.0000      1      2  151.550003   \n",
              "3       1st       No    male  30.0000      1      2  151.550003   \n",
              "4       1st       No  female  25.0000      1      2  151.550003   \n",
              "...     ...      ...     ...      ...    ...    ...         ...   \n",
              "1038    3rd       No    male  45.5000      0      0    7.225000   \n",
              "1039    3rd       No  female  14.5000      1      0   14.454200   \n",
              "1040    3rd       No    male  26.5000      0      0    7.225000   \n",
              "1041    3rd       No    male  27.0000      0      0    7.225000   \n",
              "1042    3rd       No    male  29.0000      0      0    7.875000   \n",
              "\n",
              "                                 name    cabin     embarked  \n",
              "0       Allen, Miss. Elisabeth Walton       B5  Southampton  \n",
              "1      Allison, Master. Hudson Trevor  C22 C26  Southampton  \n",
              "2        Allison, Miss. Helen Loraine  C22 C26  Southampton  \n",
              "3     Allison, Mr. Hudson Joshua Crei  C22 C26  Southampton  \n",
              "4     Allison, Mrs. Hudson J C (Bessi  C22 C26  Southampton  \n",
              "...                               ...      ...          ...  \n",
              "1038             Youseff, Mr. Gerious             Cherbourg  \n",
              "1039             Zabour, Miss. Hileni             Cherbourg  \n",
              "1040        Zakarian, Mr. Mapriededer             Cherbourg  \n",
              "1041              Zakarian, Mr. Ortin             Cherbourg  \n",
              "1042               Zimmerman, Mr. Leo           Southampton  \n",
              "\n",
              "[1043 rows x 10 columns]"
            ]
          },
          "execution_count": 3,
          "metadata": {},
          "output_type": "execute_result"
        }
      ],
      "source": [
        "titanic, titanic_description = rsm.load_data(pkg=\"data\", name=\"titanic\")\n",
        "titanic"
      ]
    },
    {
      "cell_type": "code",
      "execution_count": 4,
      "id": "6bca0387",
      "metadata": {},
      "outputs": [
        {
          "data": {
            "text/markdown": [
              "## Titanic\n",
              "\n",
              "This dataset describes the survival status of individual passengers on the Titanic. The titanic data frame does not contain information from the crew, but it does contain actual ages of (some of) the passengers. The principal source for data about Titanic passengers is the Encyclopedia Titanica. One of the original sources is Eaton & Haas (1994) Titanic: Triumph and Tragedy, Patrick Stephens Ltd, which includes a passenger list created by many researchers and edited by Michael A. Findlay.\n",
              "\n",
              "## Variables\n",
              "\n",
              "* survival - Survival (Yes, No)\n",
              "* pclass - Passenger Class (1st, 2nd, 3rd)\n",
              "* sex - Sex (female, male)\n",
              "* age - Age in years\n",
              "* sibsp - Number of Siblings/Spouses Aboard\n",
              "* parch - Number of Parents/Children Aboard\n",
              "* fare - Passenger Fare\n",
              "* name - Name\n",
              "* cabin - Cabin\n",
              "* embarked - Port of Embarkation (Cherbourg, Queenstown, Southampton)\n",
              "\n",
              "##  Notes\n",
              "\n",
              "`pclass` is a proxy for socio-economic status (SES) 1st ~ Upper; 2nd ~ Middle; 3rd ~ Lower\n",
              "\n",
              "Age is in Years; Fractional if Age less than One (1). If the Age is Estimated, it is in the form xx.5\n",
              "\n",
              "With respect to the family relation variables (i.e. sibsp and parch) some relations were ignored.  The following are the definitions used for sibsp and parch.\n",
              "\n",
              "Sibling:  Brother, Sister, Stepbrother, or Stepsister of Passenger Aboard Titanic\n",
              "Spouse:   Husband or Wife of Passenger Aboard Titanic (Mistresses and Fiances Ignored)\n",
              "Parent:   Mother or Father of Passenger Aboard Titanic\n",
              "Child:    Son, Daughter, Stepson, or Stepdaughter of Passenger Aboard Titanic\n",
              "\n",
              "Other family relatives excluded from this study include cousins, nephews/nieces, aunts/uncles, and in-laws. Some children travelled only with a nanny, therefore parch=0 for them.  As well, some travelled with very close friends or neighbors in a village, however, the definitions do not support such relations.\n",
              "\n",
              "Note: Missing values and the `ticket` variable were removed from the data\n",
              "\n",
              "## Related reading\n",
              "\n",
              "<a href=\"http://phys.org/news/2012-07-shipwrecks-men-survive.html\" target=\"_blank\">In shipwrecks, men more likely to survive</a>"
            ],
            "text/plain": [
              "<IPython.core.display.Markdown object>"
            ]
          },
          "metadata": {},
          "output_type": "display_data"
        }
      ],
      "source": [
        "rsm.md(titanic_description)"
      ]
    },
    {
      "cell_type": "code",
      "execution_count": 5,
      "id": "ea0a4734",
      "metadata": {},
      "outputs": [
        {
          "data": {
            "text/html": [
              "<div>\n",
              "<style scoped>\n",
              "    .dataframe tbody tr th:only-of-type {\n",
              "        vertical-align: middle;\n",
              "    }\n",
              "\n",
              "    .dataframe tbody tr th {\n",
              "        vertical-align: top;\n",
              "    }\n",
              "\n",
              "    .dataframe thead th {\n",
              "        text-align: right;\n",
              "    }\n",
              "</style>\n",
              "<table border=\"1\" class=\"dataframe\">\n",
              "  <thead>\n",
              "    <tr style=\"text-align: right;\">\n",
              "      <th></th>\n",
              "      <th>pclass</th>\n",
              "      <th>survived</th>\n",
              "      <th>sex</th>\n",
              "      <th>age</th>\n",
              "      <th>sibsp</th>\n",
              "      <th>parch</th>\n",
              "      <th>fare</th>\n",
              "      <th>name</th>\n",
              "      <th>cabin</th>\n",
              "      <th>embarked</th>\n",
              "    </tr>\n",
              "  </thead>\n",
              "  <tbody>\n",
              "    <tr>\n",
              "      <th>0</th>\n",
              "      <td>1st</td>\n",
              "      <td>Yes</td>\n",
              "      <td>female</td>\n",
              "      <td>29.0000</td>\n",
              "      <td>0</td>\n",
              "      <td>0</td>\n",
              "      <td>211.337494</td>\n",
              "      <td>Allen, Miss. Elisabeth Walton</td>\n",
              "      <td>B5</td>\n",
              "      <td>Southampton</td>\n",
              "    </tr>\n",
              "    <tr>\n",
              "      <th>1</th>\n",
              "      <td>1st</td>\n",
              "      <td>Yes</td>\n",
              "      <td>male</td>\n",
              "      <td>0.9167</td>\n",
              "      <td>1</td>\n",
              "      <td>2</td>\n",
              "      <td>151.550003</td>\n",
              "      <td>Allison, Master. Hudson Trevor</td>\n",
              "      <td>C22 C26</td>\n",
              "      <td>Southampton</td>\n",
              "    </tr>\n",
              "    <tr>\n",
              "      <th>2</th>\n",
              "      <td>1st</td>\n",
              "      <td>No</td>\n",
              "      <td>female</td>\n",
              "      <td>2.0000</td>\n",
              "      <td>1</td>\n",
              "      <td>2</td>\n",
              "      <td>151.550003</td>\n",
              "      <td>Allison, Miss. Helen Loraine</td>\n",
              "      <td>C22 C26</td>\n",
              "      <td>Southampton</td>\n",
              "    </tr>\n",
              "    <tr>\n",
              "      <th>3</th>\n",
              "      <td>1st</td>\n",
              "      <td>No</td>\n",
              "      <td>male</td>\n",
              "      <td>30.0000</td>\n",
              "      <td>1</td>\n",
              "      <td>2</td>\n",
              "      <td>151.550003</td>\n",
              "      <td>Allison, Mr. Hudson Joshua Crei</td>\n",
              "      <td>C22 C26</td>\n",
              "      <td>Southampton</td>\n",
              "    </tr>\n",
              "    <tr>\n",
              "      <th>4</th>\n",
              "      <td>1st</td>\n",
              "      <td>No</td>\n",
              "      <td>female</td>\n",
              "      <td>25.0000</td>\n",
              "      <td>1</td>\n",
              "      <td>2</td>\n",
              "      <td>151.550003</td>\n",
              "      <td>Allison, Mrs. Hudson J C (Bessi</td>\n",
              "      <td>C22 C26</td>\n",
              "      <td>Southampton</td>\n",
              "    </tr>\n",
              "  </tbody>\n",
              "</table>\n",
              "</div>"
            ],
            "text/plain": [
              "  pclass survived     sex      age  sibsp  parch        fare  \\\n",
              "0    1st      Yes  female  29.0000      0      0  211.337494   \n",
              "1    1st      Yes    male   0.9167      1      2  151.550003   \n",
              "2    1st       No  female   2.0000      1      2  151.550003   \n",
              "3    1st       No    male  30.0000      1      2  151.550003   \n",
              "4    1st       No  female  25.0000      1      2  151.550003   \n",
              "\n",
              "                              name    cabin     embarked  \n",
              "0    Allen, Miss. Elisabeth Walton       B5  Southampton  \n",
              "1   Allison, Master. Hudson Trevor  C22 C26  Southampton  \n",
              "2     Allison, Miss. Helen Loraine  C22 C26  Southampton  \n",
              "3  Allison, Mr. Hudson Joshua Crei  C22 C26  Southampton  \n",
              "4  Allison, Mrs. Hudson J C (Bessi  C22 C26  Southampton  "
            ]
          },
          "execution_count": 5,
          "metadata": {},
          "output_type": "execute_result"
        }
      ],
      "source": [
        "titanic.head()"
      ]
    },
    {
      "cell_type": "code",
      "execution_count": 6,
      "id": "bf97b6b9",
      "metadata": {},
      "outputs": [
        {
          "data": {
            "text/plain": [
              "Index(['pclass', 'survived', 'sex', 'age', 'sibsp', 'parch', 'fare', 'name',\n",
              "       'cabin', 'embarked'],\n",
              "      dtype='object')"
            ]
          },
          "execution_count": 6,
          "metadata": {},
          "output_type": "execute_result"
        }
      ],
      "source": [
        "titanic.columns"
      ]
    },
    {
      "cell_type": "code",
      "execution_count": 7,
      "id": "6246d18b",
      "metadata": {},
      "outputs": [
        {
          "name": "stdout",
          "output_type": "stream",
          "text": [
            "Multi-layer Perceptron (NN)\n",
            "Data                 : titanic\n",
            "Response variable    : survived\n",
            "Level                : Yes\n",
            "Explanatory variables: age, sibsp, parch\n",
            "Model type           : classification\n",
            "Nr. of features      : (3, 3)\n",
            "Nr. of observations  : 1,043\n",
            "Hidden_layer_sizes   : (5,)\n",
            "Activation function  : tanh\n",
            "Solver               : lbfgs\n",
            "Alpha                : 0.0001\n",
            "Batch size           : auto\n",
            "Learning rate        : 0.001\n",
            "Maximum iterations   : 10000\n",
            "random_state         : 1234\n",
            "AUC                  : 0.701\n",
            "\n",
            "Raw data             :\n",
            "    age  sibsp  parch\n",
            "29.0000      0      0\n",
            " 0.9167      1      2\n",
            " 2.0000      1      2\n",
            "30.0000      1      2\n",
            "25.0000      1      2\n",
            "\n",
            "Estimation data      :\n",
            "      age     sibsp     parch\n",
            "-0.056632 -0.552587 -0.502064\n",
            "-2.012379  0.543133  1.878176\n",
            "-1.936937  0.543133  1.878176\n",
            " 0.013009  0.543133  1.878176\n",
            "-0.335196  0.543133  1.878176\n"
          ]
        }
      ],
      "source": [
        "nn = rsm.model.mlp(\n",
        "    {\"titanic\": titanic}, rvar=\"survived\", lev=\"Yes\", evar=titanic.columns[3:6]\n",
        ")\n",
        "nn.summary()"
      ]
    },
    {
      "cell_type": "code",
      "execution_count": 8,
      "id": "c72be1d7",
      "metadata": {},
      "outputs": [
        {
          "data": {
            "image/png": "[encoded data removed]",
            "text/plain": [
              "<Figure size 1000x800 with 3 Axes>"
            ]
          },
          "metadata": {},
          "output_type": "display_data"
        }
      ],
      "source": [
        "nn.plot(\"pred\")"
      ]
    },
    {
      "cell_type": "code",
      "execution_count": 9,
      "id": "6afde5a6",
      "metadata": {},
      "outputs": [
        {
          "data": {
            "image/png": "[encoded data removed]",
            "text/plain": [
              "<Figure size 800x600 with 4 Axes>"
            ]
          },
          "metadata": {},
          "output_type": "display_data"
        }
      ],
      "source": [
        "nn.plot(\"pdp\")"
      ]
    },
    {
      "cell_type": "code",
      "execution_count": 10,
      "id": "40ec5db0",
      "metadata": {},
      "outputs": [
        {
          "data": {
            "image/png": "[encoded data removed]",
            "text/plain": [
              "<Figure size 600x500 with 1 Axes>"
            ]
          },
          "metadata": {},
          "output_type": "display_data"
        }
      ],
      "source": [
        "nn.plot(\"vimp\")"
      ]
    },
    {
      "cell_type": "code",
      "execution_count": 11,
      "id": "2fe52046",
      "metadata": {},
      "outputs": [
        {
          "data": {
            "text/html": [
              "<div>\n",
              "<style scoped>\n",
              "    .dataframe tbody tr th:only-of-type {\n",
              "        vertical-align: middle;\n",
              "    }\n",
              "\n",
              "    .dataframe tbody tr th {\n",
              "        vertical-align: top;\n",
              "    }\n",
              "\n",
              "    .dataframe thead th {\n",
              "        text-align: right;\n",
              "    }\n",
              "</style>\n",
              "<table border=\"1\" class=\"dataframe\">\n",
              "  <thead>\n",
              "    <tr style=\"text-align: right;\">\n",
              "      <th></th>\n",
              "      <th>age</th>\n",
              "      <th>sibsp</th>\n",
              "      <th>parch</th>\n",
              "      <th>prediction</th>\n",
              "    </tr>\n",
              "  </thead>\n",
              "  <tbody>\n",
              "    <tr>\n",
              "      <th>0</th>\n",
              "      <td>29.0000</td>\n",
              "      <td>0</td>\n",
              "      <td>0</td>\n",
              "      <td>0.367165</td>\n",
              "    </tr>\n",
              "    <tr>\n",
              "      <th>1</th>\n",
              "      <td>0.9167</td>\n",
              "      <td>1</td>\n",
              "      <td>2</td>\n",
              "      <td>0.872712</td>\n",
              "    </tr>\n",
              "    <tr>\n",
              "      <th>2</th>\n",
              "      <td>2.0000</td>\n",
              "      <td>1</td>\n",
              "      <td>2</td>\n",
              "      <td>0.876406</td>\n",
              "    </tr>\n",
              "    <tr>\n",
              "      <th>3</th>\n",
              "      <td>30.0000</td>\n",
              "      <td>1</td>\n",
              "      <td>2</td>\n",
              "      <td>0.564554</td>\n",
              "    </tr>\n",
              "    <tr>\n",
              "      <th>4</th>\n",
              "      <td>25.0000</td>\n",
              "      <td>1</td>\n",
              "      <td>2</td>\n",
              "      <td>0.577885</td>\n",
              "    </tr>\n",
              "    <tr>\n",
              "      <th>...</th>\n",
              "      <td>...</td>\n",
              "      <td>...</td>\n",
              "      <td>...</td>\n",
              "      <td>...</td>\n",
              "    </tr>\n",
              "    <tr>\n",
              "      <th>1038</th>\n",
              "      <td>45.5000</td>\n",
              "      <td>0</td>\n",
              "      <td>0</td>\n",
              "      <td>0.269248</td>\n",
              "    </tr>\n",
              "    <tr>\n",
              "      <th>1039</th>\n",
              "      <td>14.5000</td>\n",
              "      <td>1</td>\n",
              "      <td>0</td>\n",
              "      <td>0.518281</td>\n",
              "    </tr>\n",
              "    <tr>\n",
              "      <th>1040</th>\n",
              "      <td>26.5000</td>\n",
              "      <td>0</td>\n",
              "      <td>0</td>\n",
              "      <td>0.333587</td>\n",
              "    </tr>\n",
              "    <tr>\n",
              "      <th>1041</th>\n",
              "      <td>27.0000</td>\n",
              "      <td>0</td>\n",
              "      <td>0</td>\n",
              "      <td>0.340729</td>\n",
              "    </tr>\n",
              "    <tr>\n",
              "      <th>1042</th>\n",
              "      <td>29.0000</td>\n",
              "      <td>0</td>\n",
              "      <td>0</td>\n",
              "      <td>0.367165</td>\n",
              "    </tr>\n",
              "  </tbody>\n",
              "</table>\n",
              "<p>1043 rows × 4 columns</p>\n",
              "</div>"
            ],
            "text/plain": [
              "          age  sibsp  parch  prediction\n",
              "0     29.0000      0      0    0.367165\n",
              "1      0.9167      1      2    0.872712\n",
              "2      2.0000      1      2    0.876406\n",
              "3     30.0000      1      2    0.564554\n",
              "4     25.0000      1      2    0.577885\n",
              "...       ...    ...    ...         ...\n",
              "1038  45.5000      0      0    0.269248\n",
              "1039  14.5000      1      0    0.518281\n",
              "1040  26.5000      0      0    0.333587\n",
              "1041  27.0000      0      0    0.340729\n",
              "1042  29.0000      0      0    0.367165\n",
              "\n",
              "[1043 rows x 4 columns]"
            ]
          },
          "execution_count": 11,
          "metadata": {},
          "output_type": "execute_result"
        }
      ],
      "source": [
        "nn.predict(titanic)"
      ]
    },
    {
      "cell_type": "code",
      "execution_count": 12,
      "id": "d4c64824",
      "metadata": {},
      "outputs": [
        {
          "data": {
            "image/png": "[encoded data removed]",
            "text/plain": [
              "<Figure size 1000x800 with 1 Axes>"
            ]
          },
          "metadata": {},
          "output_type": "display_data"
        }
      ],
      "source": [
        "rsm.distr_plot(nn.predict(titanic).prediction)"
      ]
    },
    {
      "cell_type": "markdown",
      "id": "529df8da",
      "metadata": {},
      "source": [
        "In addition to the numerical output provided in the _Summary_ tab we can also evaluate the link between `survival`, `class`, `sex`, and `age` visually (see _Plot_ tab). \n"
      ]
    },
    {
      "cell_type": "markdown",
      "id": "ffccbcf8",
      "metadata": {},
      "source": [
        "# Radiant for Python App: Multi-layer Perceptron (NN) - Classification\n",
        "\n",
        "All the output shown above can be reproduced using the Radiant-for-Python web interface. An example of what the code required to start the web interface is shown below. See if you can reproduce the result.\n",
        "\n",
        "> Note: The app will continue running until you press the `Stop` button in the app navigation bar or the stop button next to the notebook cell\n"
      ]
    },
    {
      "cell_type": "code",
      "execution_count": 13,
      "id": "3a7a6cc4",
      "metadata": {},
      "outputs": [
        {
          "name": "stdout",
          "output_type": "stream",
          "text": [
            "Listening on http://localhost:8000\n",
            "Pyrsm and Radiant are open source tools and free to use. If you\n",
            "are a student or instructor using pyrsm or Radiant for a class,\n",
            "as a favor to the developers, please send an email to\n",
            "<radiant@rady.ucsd.edu> with the name of the school and class.\n",
            "If you are using Radiant in your company, as a favor to the\n",
            "developer, please share the name of your company and what types\n",
            "of activites you are supporting with the tool.\n"
          ]
        },
        {
          "data": {
            "text/markdown": [
              "```python\n",
              "import pyrsm as rsm\n",
              "\n",
              "# titanic = pd.read_parquet('titanic.parquet')\n",
              "nn = rsm.model.mlp(\n",
              "    data={\"titanic\": titanic}, rvar=\"survived\", lev=\"Yes\", evar=[\"pclass\", \"sex\", \"age\"]\n",
              ")\n",
              "nn.plot(plots=\"pred\", incl=[\"age\"])\n",
              "\n",
              "```"
            ],
            "text/plain": [
              "<IPython.core.display.Markdown object>"
            ]
          },
          "metadata": {},
          "output_type": "display_data"
        },
        {
          "data": {
            "text/plain": [
              "<Figure size 640x480 with 0 Axes>"
            ]
          },
          "metadata": {},
          "output_type": "display_data"
        }
      ],
      "source": [
        "rsm.radiant.model.mlp({\"titanic\": titanic}, {\"titanic\": titanic_description})"
      ]
    },
    {
      "cell_type": "markdown",
      "id": "8dca495e",
      "metadata": {},
      "source": [
        "<p align=\"center\">\n",
        "<img src=\"figures/mlp-classification-summary.png\">\n",
        "</p>\n",
        "\n",
        "<p align=\"center\">\n",
        "<img src=\"figures/mlp-classification-pred-plots.png\">\n",
        "</p>\n"
      ]
    }
  ],
  "metadata": {
    "kernelspec": {
      "display_name": "Python 3 (ipykernel)",
      "language": "python",
      "name": "python3"
    },
    "language_info": {
      "codemirror_mode": {
        "name": "ipython",
        "version": 3
      },
      "file_extension": ".py",
      "mimetype": "text/x-python",
      "name": "python",
      "nbconvert_exporter": "python",
      "pygments_lexer": "ipython3",
      "version": "3.11.7"
    }
  },
  "nbformat": 4,
  "nbformat_minor": 5
}
