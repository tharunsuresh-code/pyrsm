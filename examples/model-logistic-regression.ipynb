{
  "cells": [
    {
      "cell_type": "raw",
      "id": "4cf8718a",
      "metadata": {},
      "source": [
        "---\n",
        "title: Logistic Regression\n",
        "---"
      ]
    },
    {
      "cell_type": "markdown",
      "id": "7454cd6b",
      "metadata": {},
      "source": [
        "Estimate a Logistic regression model for binary classification\n",
        "\n",
        "\n",
        "YAML header for use with Quarto\n"
      ]
    },
    {
      "cell_type": "raw",
      "id": "e4020932",
      "metadata": {},
      "source": [
        "---\n",
        "author: Vincent Nijs\n",
        "format:\n",
        "    html:\n",
        "        code-tools: true\n",
        "        code-fold: true\n",
        "        toc: true\n",
        "        embed-resources: true\n",
        "        highlight: \"zenburn\"\n",
        "        theme: \"cosmo\"\n",
        "        includes:\n",
        "            in_header: figures/icon-header.html\n",
        "---"
      ]
    },
    {
      "cell_type": "code",
      "execution_count": null,
      "id": "d27e8450",
      "metadata": {},
      "outputs": [],
      "source": [
        "import pyrsm as rsm\n",
        "import matplotlib as mpl\n",
        "\n",
        "# increase plot resolution\n",
        "mpl.rcParams[\"figure.dpi\"] = 100"
      ]
    },
    {
      "cell_type": "code",
      "execution_count": null,
      "id": "56cdd4f7",
      "metadata": {},
      "outputs": [],
      "source": [
        "## setup pyrsm for autoreload\n",
        "%reload_ext autoreload\n",
        "%autoreload 2\n",
        "%aimport pyrsm"
      ]
    },
    {
      "cell_type": "markdown",
      "id": "4a77f689",
      "metadata": {},
      "source": [
        "`{python} 1 + 1`\n",
        "\n",
        "### Example\n",
        "\n",
        "As an example we will use a dataset that describes the survival status of individual passengers on the Titanic. The principal source for data about Titanic passengers is the Encyclopedia Titanic. One of the original sources is Eaton & Haas (1994) Titanic: Triumph and Tragedy, Patrick Stephens Ltd, which includes a passenger list created by many researchers and edited by Michael A. Findlay. Suppose we want to investigate which factors are most strongly associated with the chance of surviving the sinking of the Titanic. Lets focus on four variables in the database:\n",
        "\n",
        "- survived = a factor with levels `Yes` and `No`\n",
        "- pclass = Passenger Class (1st, 2nd, 3rd). This is a proxy for socio-economic status (SES) 1st ~ Upper; 2nd ~ Middle; 3rd ~ Lower\n",
        "- sex = Sex (female, male)\n",
        "- age = Age in years\n",
        "\n",
        "Select `survived` as the response variable and `Yes` in **Choose level**. Select `pclass`, `sex` and `age` as the explanatory variables. In the screenshot below we see that each of the coefficients is statistically significant (p.value < .05) and that the model has some predictive power (Chi-squared statistic < .05). Unfortunately the coefficients from a logistic regression model are difficult to interpret. The `OR` column provides estimated odds-ratios. We see that the odds of survival were significantly lower for 2nd and 3rd class passengers compared to 1st class passenger. The odds of survival for males were also lower than for females. While the effect of age is statically significant, for each extra year in age the odds of survival are not as strongly affected (see also the standardized coefficient).\n",
        "\n",
        "For each of the explanatory variables the following null and alternate hypotheses can be formulated for the odds ratios:\n",
        "\n",
        "* H0: The odds-ratio associated with explanatory variable x is equal to 1\n",
        "* Ha: The odds-ratio associated with explanatory variable x is not equal to 1\n",
        "\n",
        "The odds-ratios from the logistic regression can be interpreted as follows:\n",
        "\n",
        "- Compared to 1st class passengers, the odds of survival for 2nd class passengers was 72% lower, keeping all other variables in the model constant.\n",
        "- Compared to 1st class passengers, the odds of survival for 3rd class passengers was 89.8% lower, keeping all other variables in the model constant.\n",
        "- Compared to female passengers, the odds of survival for male passengers was 91.7% lower, keeping all other variables in the model constant.\n",
        "- For an increase in passenger age of 1 year the odds of survival decreased by 3.4%, keeping all other variables in the model constant.\n"
      ]
    },
    {
      "cell_type": "code",
      "execution_count": null,
      "id": "b37028c7",
      "metadata": {},
      "outputs": [],
      "source": [
        "titanic, titanic_description = rsm.load_data(pkg=\"data\", name=\"titanic\")\n",
        "titanic"
      ]
    },
    {
      "cell_type": "code",
      "execution_count": null,
      "id": "6bca0387",
      "metadata": {},
      "outputs": [],
      "source": [
        "rsm.md(titanic_description)"
      ]
    },
    {
      "cell_type": "code",
      "execution_count": null,
      "id": "ea0a4734",
      "metadata": {},
      "outputs": [],
      "source": [
        "titanic.head()"
      ]
    },
    {
      "cell_type": "code",
      "execution_count": null,
      "id": "6246d18b",
      "metadata": {},
      "outputs": [],
      "source": [
        "lr = rsm.logistic(\n",
        "    {\"titanic\": titanic}, rvar=\"survived\", lev=\"Yes\", evar=[\"pclass\", \"sex\", \"age\"]\n",
        ")\n",
        "lr.summary()"
      ]
    },
    {
      "cell_type": "code",
      "execution_count": null,
      "id": "926fd7d6",
      "metadata": {},
      "outputs": [],
      "source": [
        "lr = rsm.logistic({\"titanic\":titanic}, lev=\"Yes\", form=\"survived ~ pclass + sex + age\")\n",
        "lr.summary()"
      ]
    },
    {
      "cell_type": "code",
      "execution_count": null,
      "id": "2a4b84ef",
      "metadata": {},
      "outputs": [],
      "source": [
        "lr.summary(test=\"pclass\")"
      ]
    },
    {
      "cell_type": "markdown",
      "id": "529df8da",
      "metadata": {},
      "source": [
        "In addition to the numerical output provided in the _Summary_ tab we can also evaluate the link between `survival`, `class`, `sex`, and `age` visually (see _Plot_ tab). In the screenshot below we see a coefficient (or rather an odds-ratio) plot with confidence intervals. The relative importance of gender and class compared to age clearly stands out. Note: click the check box for standardized coefficients (i.e., `standardize`) in the _Summary_ tab and see if your conclusion changes.\n"
      ]
    },
    {
      "cell_type": "code",
      "execution_count": null,
      "id": "fda93a53",
      "metadata": {},
      "outputs": [],
      "source": [
        "lr.plot()"
      ]
    },
    {
      "cell_type": "code",
      "execution_count": null,
      "id": "15a18356",
      "metadata": {},
      "outputs": [],
      "source": [
        "lr.plot(plots=\"pred\")"
      ]
    },
    {
      "cell_type": "code",
      "execution_count": null,
      "id": "2f8e023b",
      "metadata": {},
      "outputs": [],
      "source": [
        "lr.plot(plots=\"vimp\")"
      ]
    },
    {
      "cell_type": "markdown",
      "id": "ffccbcf8",
      "metadata": {},
      "source": [
        "# Radiant for Python App: Logistic regression (GLM)\n",
        "\n",
        "All the output shown above can be reproduced using the Radiant-for-Python web interface. An example of what the code required to start the web interface is shown below. See if you can reproduce the result.\n",
        "\n",
        "> Note: The app will continue running until you press the `Stop` button in the app navigation bar or the stop button next to the notebook cell\n"
      ]
    },
    {
      "cell_type": "code",
      "execution_count": null,
      "id": "3a7a6cc4",
      "metadata": {},
      "outputs": [],
      "source": [
        "rsm.radiant.logistic({\"titanic\": titanic}, {\"titanic\": titanic_description}, code=True)"
      ]
    },
    {
      "cell_type": "markdown",
      "id": "8dca495e",
      "metadata": {},
      "source": [
        "<p align=\"center\">\n",
        "<img src=\"figures_model/logistic-regression-summary.png\">\n",
        "</p>\n",
        "\n",
        "<p align=\"center\">\n",
        "<img src=\"figures_model/logistic-regression-pred-plots.png\">\n",
        "</p>\n"
      ]
    }
  ],
  "metadata": {
    "kernelspec": {
      "display_name": "Python 3 (ipykernel)",
      "language": "python",
      "name": "python3"
    },
    "language_info": {
      "name": "python",
      "version": "3.10.10"
    }
  },
  "nbformat": 4,
  "nbformat_minor": 5
}
